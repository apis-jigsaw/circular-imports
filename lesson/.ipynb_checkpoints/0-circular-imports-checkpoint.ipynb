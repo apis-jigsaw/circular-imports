{
 "cells": [
  {
   "cell_type": "markdown",
   "id": "f23c43e5-e8e2-4366-a8ae-e1017ff02a3d",
   "metadata": {},
   "source": [
    "# Circular Imports"
   ]
  },
  {
   "cell_type": "markdown",
   "id": "1024fde4-09b1-4ad4-99c8-aa8ab6431dae",
   "metadata": {},
   "source": [
    "### Introduction"
   ]
  },
  {
   "cell_type": "markdown",
   "id": "3a1d9867-8c04-4586-b0f2-11bbe1129ba0",
   "metadata": {},
   "source": [
    "In this lesson, we'll talk about a solution for circular imports, which is an issue that can often occur in a Flask application."
   ]
  },
  {
   "cell_type": "markdown",
   "id": "25878063-8343-4b93-886a-f1a3b7bc4638",
   "metadata": {},
   "source": [
    "### Updating our Code"
   ]
  },
  {
   "cell_type": "markdown",
   "id": "98eddedf-7c16-45ff-ab96-17292ed09379",
   "metadata": {},
   "source": [
    "Let's take another look at the code in our Foursquare backend lab.  If we move to the `models` folder, we will see that we updated the code so that the `venue` module references the `category` module and the `category` module references the `venue` module. "
   ]
  },
  {
   "cell_type": "markdown",
   "id": "802f72da-63cd-490a-8db7-a3bff26039d2",
   "metadata": {},
   "source": [
    "If we run our `run.py` file, we'll get the following error:"
   ]
  },
  {
   "cell_type": "markdown",
   "id": "a3ec6c6b-e98c-4739-ad79-851bfb894949",
   "metadata": {},
   "source": [
    "```python\n",
    "Traceback (most recent call last):\n",
    "  File \"/Users/jeffreykatz/Documents/jigsaw/curriculum/mod-2/2-flask/2-flask-structured/4-circular-imports/backend/run.py\", line 1, in <module>\n",
    "    from api.main import app\n",
    "  File \"/Users/jeffreykatz/Documents/jigsaw/curriculum/mod-2/2-flask/2-flask-structured/4-circular-imports/backend/api/main.py\", line 3, in <module>\n",
    "    from api.models.venue import Venue\n",
    "  File \"/Users/jeffreykatz/Documents/jigsaw/curriculum/mod-2/2-flask/2-flask-structured/4-circular-imports/backend/api/models/venue.py\", line 1, in <module>\n",
    "    from api.models.category import Category\n",
    "  File \"/Users/jeffreykatz/Documents/jigsaw/curriculum/mod-2/2-flask/2-flask-structured/4-circular-imports/backend/api/models/category.py\", line 1, in <module>\n",
    "    from api.models.venue import Venue\n",
    "ImportError: cannot import name 'Venue' from partially initialized module 'api.models.venue' (most likely due to a circular import) (/Users/jeffreykatz/Documents/jigsaw/curriculum/mod-2/2-flask/2-flask-structured/4-circular-imports/backend/api/models/venue.py)\n",
    "```"
   ]
  },
  {
   "cell_type": "markdown",
   "id": "9aba60b1-96cc-4bc1-8cd0-970b1b5021d2",
   "metadata": {},
   "source": [
    "If we look at the bottom of the error message, it says that `cannot import name 'Venue' from partially initialized module 'api.models.venue'`.\n",
    "\n",
    "And if look further up the stacktrace we can get a sense of why this is occurring.  In the venue.py file, the first line is:\n",
    "```python\n",
    "from api.models.category import Category\n",
    "```\n",
    "\n",
    "So Python goes to the category module.  Then in the first line of the category module the first line is:\n",
    "\n",
    "```python\n",
    "from api.models.venue import Venue\n",
    "```\n",
    "\n",
    "So Python would have to go back to the venue module -- where it will be asked to go back to category, and so on.  This is our circular loop.\n",
    "\n",
    "### Solving the issue"
   ]
  },
  {
   "cell_type": "markdown",
   "id": "0f504a8a-69e2-4f02-8b60-41b535b6d419",
   "metadata": {},
   "source": [
    "Of course, the easiest way to fix an issue like this is simply to delete one of the problematic lines of code.  But, we actually would like to reference our classes in each of the files.\n",
    "\n",
    "So instead what we can do is the following.  We import each of the models into the `api/models/__init__.py` file.  \n",
    "\n",
    "```python\n",
    "# models/__init__.py\n",
    "from api.models.category import Category\n",
    "from api.models.venue import Venue\n",
    "```\n",
    "\n",
    "And then in both the category and venue modules, we can simply import the `api.models`.  "
   ]
  },
  {
   "cell_type": "markdown",
   "id": "a890eba0-8aa8-4b08-98ce-eb8c5433ca48",
   "metadata": {},
   "source": [
    "For example, this is what our `category.py` file looks like."
   ]
  },
  {
   "cell_type": "markdown",
   "id": "0b73b6d9-2170-4da9-9f18-1a0729937140",
   "metadata": {},
   "source": [
    "```python\n",
    "import api.models as models\n",
    "class Category:\n",
    "    __table__ = 'categories'\n",
    "    columns = ['id', 'name']\n",
    "    def __init__(self, values):\n",
    "        self.__dict__ = dict(zip(self.columns, values))\n",
    "\n",
    "    def build_venue(self, values):\n",
    "        self.venue = models.Venue(values)\n",
    "```"
   ]
  },
  {
   "cell_type": "markdown",
   "id": "05917a03-7a70-44b0-aa2b-4acf108d7e4a",
   "metadata": {},
   "source": [
    "Notice, that in the last line, when we do need to access the Venue, we do it by calling `models.Venue`."
   ]
  },
  {
   "cell_type": "markdown",
   "id": "90126138-aa75-405d-bda6-57ed61c9c974",
   "metadata": {},
   "source": [
    "### Cleaning up "
   ]
  },
  {
   "cell_type": "markdown",
   "id": "98e8ccd3-840c-45b6-a9e2-a016d670f7bc",
   "metadata": {},
   "source": [
    "We'll want to make sure that we update the venue module to follow a similar pattern."
   ]
  },
  {
   "cell_type": "markdown",
   "id": "cbd77721-5552-4a63-b575-f28b425c25f7",
   "metadata": {},
   "source": [
    "```python\n",
    "import api.models as models\n",
    "class Venue():\n",
    "    __table__ = 'venues'\n",
    "    columns = ['id', 'foursquare_id', 'name', 'price',\n",
    "            'rating', 'likes', 'menu_url']\n",
    "\n",
    "    def __init__(self, values):\n",
    "        self.__dict__ = dict(zip(self.columns, values))\n",
    "\n",
    "    def build_category(self, values):\n",
    "        category = models.Category(values)\n",
    "```"
   ]
  },
  {
   "cell_type": "markdown",
   "id": "85b13c11-e363-4f90-9d28-f3be895e5339",
   "metadata": {},
   "source": [
    "And, we'll need to update the rest of our code as well.  For example, we can update our `console.py` to the following:\n",
    "\n",
    "```python\n",
    "# console.py\n",
    "from api.models import Venue, Category\n",
    "```\n",
    "\n",
    "And we can also update the update the `main.py` file.\n",
    "\n",
    "```python\n",
    "from flask import Flask, jsonify\n",
    "import psycopg2\n",
    "from api.models import Venue, Category\n",
    "\n",
    "\n",
    "app = Flask(__name__)\n",
    "```"
   ]
  },
  {
   "cell_type": "markdown",
   "id": "f53ce588-f10d-4c17-a5d4-5660f52a42b6",
   "metadata": {},
   "source": [
    "Then try running the `run.py` file as well as the `console.py` file to make sure that we successfully avoid the circular import."
   ]
  },
  {
   "cell_type": "markdown",
   "id": "3099f563-2d5b-4256-8148-f0e90e73bc6e",
   "metadata": {},
   "source": [
    "### Summary"
   ]
  },
  {
   "cell_type": "markdown",
   "id": "ccd0833a-80a1-4c71-a548-199f1f69a9b4",
   "metadata": {},
   "source": [
    "In this lesson, we learned how to avoid circular imports.  First we learned how circular imports can occur: when each file imports the other, the Python interpreter can get stuck in an infinite loop.\n",
    "\n",
    "To avoid this, we can move the import into a more top level file - in this case the `models/__init__.py` file.  And we do so with the following:\n",
    "\n",
    "```python\n",
    "# models/__init__.py\n",
    "from api.models.category import Category\n",
    "from api.models.venue import Venue\n",
    "```\n",
    "\n",
    "Doing so allows to access each of the imported classes when import `api.models`.  And we are no longer having Python bounce between files, but rather perform an import in a more top level file.  Then in the venue class for example, we can access the category class with something like the following:\n",
    "```python\n",
    "import api.models as models\n",
    "class Venue():\n",
    "    __table__ = 'venues'\n",
    "    columns = ['id', 'foursquare_id', 'name', 'price',\n",
    "            'rating', 'likes', 'menu_url']\n",
    "\n",
    "    def __init__(self, values):\n",
    "        self.__dict__ = dict(zip(self.columns, values))\n",
    "\n",
    "    def build_category(self, values):\n",
    "        category = models.Category(values)\n",
    "```"
   ]
  },
  {
   "cell_type": "markdown",
   "id": "6ce9585a-4b2d-4832-9350-af0fc3c15510",
   "metadata": {},
   "source": [
    "### Resources\n",
    "\n",
    "[Stackoverflow init.py](https://stackoverflow.com/questions/14132789/relative-imports-for-the-billionth-time)\n",
    "\n",
    "[Berkeyly PythonPath](https://bic-berkeley.github.io/psych-214-fall-2016/using_pythonpath.html)"
   ]
  }
 ],
 "metadata": {
  "kernelspec": {
   "display_name": "Python 3 (ipykernel)",
   "language": "python",
   "name": "python3"
  },
  "language_info": {
   "codemirror_mode": {
    "name": "ipython",
    "version": 3
   },
   "file_extension": ".py",
   "mimetype": "text/x-python",
   "name": "python",
   "nbconvert_exporter": "python",
   "pygments_lexer": "ipython3",
   "version": "3.9.7"
  }
 },
 "nbformat": 4,
 "nbformat_minor": 5
}
